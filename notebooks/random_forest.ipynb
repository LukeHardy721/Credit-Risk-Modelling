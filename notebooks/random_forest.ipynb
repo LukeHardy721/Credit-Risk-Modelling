{
 "cells": [
  {
   "cell_type": "markdown",
   "id": "dece71ac",
   "metadata": {},
   "source": [
    "# Random Forest"
   ]
  },
  {
   "cell_type": "markdown",
   "id": "9fc2c7f4",
   "metadata": {},
   "source": [
    "## Import Data"
   ]
  },
  {
   "cell_type": "code",
   "execution_count": 1,
   "id": "4b677bf7",
   "metadata": {},
   "outputs": [
    {
     "name": "stdout",
     "output_type": "stream",
     "text": [
      "(1076248, 80)\n",
      "(269062, 80)\n"
     ]
    }
   ],
   "source": [
    "import numpy as np\n",
    "import pandas as pd\n",
    "\n",
    "train_df = pd.read_parquet(\"../data/train_non_lin_preprocessed.parquet\")\n",
    "print(train_df.shape)\n",
    "\n",
    "X_train = train_df.drop(columns = ['target'])\n",
    "y_train = train_df['target']\n",
    "\n",
    "test_df = pd.read_parquet(\"../data/test_non_lin_preprocessed.parquet\")\n",
    "print(test_df.shape)\n",
    "\n",
    "X_test = test_df.drop(columns = ['target'])\n",
    "y_test = test_df['target']"
   ]
  },
  {
   "cell_type": "markdown",
   "id": "d6b97589",
   "metadata": {},
   "source": [
    "## Imbalanced Random Forest"
   ]
  },
  {
   "cell_type": "code",
   "execution_count": null,
   "id": "f991ff51",
   "metadata": {},
   "outputs": [],
   "source": [
    "from sklearn.ensemble import RandomForestClassifier\n",
    "from sklearn.metrics import roc_auc_score, classification_report\n",
    "import matplotlib.pyplot as plt\n",
    "\n",
    "target_col = \"target\"\n",
    "\n",
    "X_train = train_df.drop(columns=[target_col])\n",
    "y_train = train_df[target_col]\n",
    "\n",
    "X_test = test_df.drop(columns=[target_col])\n",
    "y_test = test_df[target_col]"
   ]
  },
  {
   "cell_type": "code",
   "execution_count": null,
   "id": "6f80d0b8",
   "metadata": {},
   "outputs": [
    {
     "name": "stdout",
     "output_type": "stream",
     "text": [
      "Test ROC AUC: 0.7207610799635567\n",
      "              precision    recall  f1-score   support\n",
      "\n",
      "           0       0.81      0.99      0.89    215350\n",
      "           1       0.58      0.06      0.12     53712\n",
      "\n",
      "    accuracy                           0.80    269062\n",
      "   macro avg       0.69      0.53      0.50    269062\n",
      "weighted avg       0.76      0.80      0.74    269062\n",
      "\n"
     ]
    }
   ],
   "source": [
    "rf_model = RandomForestClassifier(\n",
    "    n_estimators=50,\n",
    "    max_depth=15,\n",
    "    random_state=42,\n",
    "    n_jobs=-1\n",
    ")\n",
    "\n",
    "rf_model.fit(X_train, y_train)\n",
    "y_pred = rf_model.predict(X_test)\n",
    "y_proba = rf_model.predict_proba(X_test)[:, 1]\n",
    "\n",
    "print(\"Test ROC AUC:\", roc_auc_score(y_test, y_proba))\n",
    "print(classification_report(y_test, y_pred))"
   ]
  },
  {
   "cell_type": "code",
   "execution_count": null,
   "id": "29f48e7a",
   "metadata": {},
   "outputs": [
    {
     "ename": "NotFittedError",
     "evalue": "This RandomForestClassifier instance is not fitted yet. Call 'fit' with appropriate arguments before using this estimator.",
     "output_type": "error",
     "traceback": [
      "\u001b[1;31m---------------------------------------------------------------------------\u001b[0m",
      "\u001b[1;31mNotFittedError\u001b[0m                            Traceback (most recent call last)",
      "Cell \u001b[1;32mIn[15], line 17\u001b[0m\n\u001b[0;32m     14\u001b[0m     plt\u001b[38;5;241m.\u001b[39mtitle(\u001b[38;5;124m\"\u001b[39m\u001b[38;5;124mFeature Importance\u001b[39m\u001b[38;5;124m\"\u001b[39m)\n\u001b[0;32m     15\u001b[0m     plt\u001b[38;5;241m.\u001b[39mshow()\n\u001b[1;32m---> 17\u001b[0m \u001b[43mplot_feature_importances\u001b[49m\u001b[43m(\u001b[49m\u001b[43mrf_model\u001b[49m\u001b[43m)\u001b[49m\n",
      "Cell \u001b[1;32mIn[15], line 5\u001b[0m, in \u001b[0;36mplot_feature_importances\u001b[1;34m(rf)\u001b[0m\n\u001b[0;32m      3\u001b[0m \u001b[38;5;28;01mdef\u001b[39;00m \u001b[38;5;21mplot_feature_importances\u001b[39m(rf):\n\u001b[1;32m----> 5\u001b[0m     importances \u001b[38;5;241m=\u001b[39m \u001b[43mrf\u001b[49m\u001b[38;5;241;43m.\u001b[39;49m\u001b[43mfeature_importances_\u001b[49m\n\u001b[0;32m      6\u001b[0m     feature_names \u001b[38;5;241m=\u001b[39m X_train\u001b[38;5;241m.\u001b[39mcolumns\n\u001b[0;32m      8\u001b[0m     \u001b[38;5;66;03m# Sort by importance\u001b[39;00m\n",
      "File \u001b[1;32mc:\\Users\\lukeh\\AppData\\Local\\Programs\\Python\\Python312\\Lib\\site-packages\\sklearn\\ensemble\\_forest.py:671\u001b[0m, in \u001b[0;36mBaseForest.feature_importances_\u001b[1;34m(self)\u001b[0m\n\u001b[0;32m    650\u001b[0m \u001b[38;5;129m@property\u001b[39m\n\u001b[0;32m    651\u001b[0m \u001b[38;5;28;01mdef\u001b[39;00m \u001b[38;5;21mfeature_importances_\u001b[39m(\u001b[38;5;28mself\u001b[39m):\n\u001b[0;32m    652\u001b[0m \u001b[38;5;250m    \u001b[39m\u001b[38;5;124;03m\"\"\"\u001b[39;00m\n\u001b[0;32m    653\u001b[0m \u001b[38;5;124;03m    The impurity-based feature importances.\u001b[39;00m\n\u001b[0;32m    654\u001b[0m \n\u001b[1;32m   (...)\u001b[0m\n\u001b[0;32m    669\u001b[0m \u001b[38;5;124;03m        array of zeros.\u001b[39;00m\n\u001b[0;32m    670\u001b[0m \u001b[38;5;124;03m    \"\"\"\u001b[39;00m\n\u001b[1;32m--> 671\u001b[0m     \u001b[43mcheck_is_fitted\u001b[49m\u001b[43m(\u001b[49m\u001b[38;5;28;43mself\u001b[39;49m\u001b[43m)\u001b[49m\n\u001b[0;32m    673\u001b[0m     all_importances \u001b[38;5;241m=\u001b[39m Parallel(n_jobs\u001b[38;5;241m=\u001b[39m\u001b[38;5;28mself\u001b[39m\u001b[38;5;241m.\u001b[39mn_jobs, prefer\u001b[38;5;241m=\u001b[39m\u001b[38;5;124m\"\u001b[39m\u001b[38;5;124mthreads\u001b[39m\u001b[38;5;124m\"\u001b[39m)(\n\u001b[0;32m    674\u001b[0m         delayed(\u001b[38;5;28mgetattr\u001b[39m)(tree, \u001b[38;5;124m\"\u001b[39m\u001b[38;5;124mfeature_importances_\u001b[39m\u001b[38;5;124m\"\u001b[39m)\n\u001b[0;32m    675\u001b[0m         \u001b[38;5;28;01mfor\u001b[39;00m tree \u001b[38;5;129;01min\u001b[39;00m \u001b[38;5;28mself\u001b[39m\u001b[38;5;241m.\u001b[39mestimators_\n\u001b[0;32m    676\u001b[0m         \u001b[38;5;28;01mif\u001b[39;00m tree\u001b[38;5;241m.\u001b[39mtree_\u001b[38;5;241m.\u001b[39mnode_count \u001b[38;5;241m>\u001b[39m \u001b[38;5;241m1\u001b[39m\n\u001b[0;32m    677\u001b[0m     )\n\u001b[0;32m    679\u001b[0m     \u001b[38;5;28;01mif\u001b[39;00m \u001b[38;5;129;01mnot\u001b[39;00m all_importances:\n",
      "File \u001b[1;32mc:\\Users\\lukeh\\AppData\\Local\\Programs\\Python\\Python312\\Lib\\site-packages\\sklearn\\utils\\validation.py:1757\u001b[0m, in \u001b[0;36mcheck_is_fitted\u001b[1;34m(estimator, attributes, msg, all_or_any)\u001b[0m\n\u001b[0;32m   1754\u001b[0m     \u001b[38;5;28;01mreturn\u001b[39;00m\n\u001b[0;32m   1756\u001b[0m \u001b[38;5;28;01mif\u001b[39;00m \u001b[38;5;129;01mnot\u001b[39;00m _is_fitted(estimator, attributes, all_or_any):\n\u001b[1;32m-> 1757\u001b[0m     \u001b[38;5;28;01mraise\u001b[39;00m NotFittedError(msg \u001b[38;5;241m%\u001b[39m {\u001b[38;5;124m\"\u001b[39m\u001b[38;5;124mname\u001b[39m\u001b[38;5;124m\"\u001b[39m: \u001b[38;5;28mtype\u001b[39m(estimator)\u001b[38;5;241m.\u001b[39m\u001b[38;5;18m__name__\u001b[39m})\n",
      "\u001b[1;31mNotFittedError\u001b[0m: This RandomForestClassifier instance is not fitted yet. Call 'fit' with appropriate arguments before using this estimator."
     ]
    }
   ],
   "source": [
    "def plot_feature_importances(rf):\n",
    "\n",
    "    importances = rf.feature_importances_\n",
    "    feature_names = X_train.columns\n",
    "\n",
    "    # Sort by importance\n",
    "    sorted_idx = importances.argsort()[::-1]\n",
    "\n",
    "    plt.figure(figsize=(10,5))\n",
    "    plt.bar(range(len(importances)), importances[sorted_idx])\n",
    "    plt.xticks(range(len(importances)), feature_names[sorted_idx], rotation=90)\n",
    "    plt.title(\"Feature Importance\")\n",
    "    plt.show()\n",
    "\n",
    "plot_feature_importances(rf_model)"
   ]
  },
  {
   "cell_type": "markdown",
   "id": "b16b3103",
   "metadata": {},
   "source": [
    "## Balanced Random Forest"
   ]
  },
  {
   "cell_type": "code",
   "execution_count": null,
   "id": "5ee82f75",
   "metadata": {},
   "outputs": [],
   "source": [
    "from sklearn.ensemble import RandomForestClassifier\n",
    "from sklearn.metrics import roc_auc_score, classification_report\n"
   ]
  },
  {
   "cell_type": "code",
   "execution_count": null,
   "id": "96cbd15c",
   "metadata": {},
   "outputs": [
    {
     "name": "stdout",
     "output_type": "stream",
     "text": [
      "Test ROC AUC: 0.7159379742636198\n",
      "              precision    recall  f1-score   support\n",
      "\n",
      "           0       0.87      0.72      0.79    215350\n",
      "           1       0.34      0.59      0.43     53712\n",
      "\n",
      "    accuracy                           0.69    269062\n",
      "   macro avg       0.61      0.65      0.61    269062\n",
      "weighted avg       0.77      0.69      0.72    269062\n",
      "\n"
     ]
    }
   ],
   "source": [
    "rf_model = RandomForestClassifier(\n",
    "    n_estimators=50,\n",
    "    max_depth=15,\n",
    "    class_weight='balanced',\n",
    "    random_state=42,\n",
    "    n_jobs=-1\n",
    ")\n",
    "\n",
    "rf_model.fit(X_train, y_train)\n",
    "y_pred = rf_model.predict(X_test)\n",
    "y_proba = rf_model.predict_proba(X_test)[:, 1]\n",
    "\n",
    "print(\"Test ROC AUC:\", roc_auc_score(y_test, y_proba))\n",
    "print(classification_report(y_test, y_pred))"
   ]
  },
  {
   "cell_type": "code",
   "execution_count": null,
   "id": "8fa4eace",
   "metadata": {},
   "outputs": [],
   "source": [
    "plot_feature_importances(rf_model)"
   ]
  },
  {
   "cell_type": "markdown",
   "id": "9f9d9b7e",
   "metadata": {},
   "source": [
    "Note that this gives a similar ROC AUC, but is much better on the positive class."
   ]
  },
  {
   "cell_type": "markdown",
   "id": "5c06c01f",
   "metadata": {},
   "source": [
    "## Hyperparameter Tuning"
   ]
  },
  {
   "cell_type": "code",
   "execution_count": null,
   "id": "fd892c25",
   "metadata": {},
   "outputs": [
    {
     "name": "stdout",
     "output_type": "stream",
     "text": [
      "Fitting 5 folds for each of 8 candidates, totalling 40 fits\n",
      "Best Parameters: {'max_depth': 10, 'max_features': 'sqrt', 'min_samples_split': 5}\n",
      "Best ROC AUC: 0.7165833109563081\n"
     ]
    }
   ],
   "source": [
    "# from sklearn.model_selection import StratifiedKFold, GridSearchCV\n",
    "\n",
    "# rf_model = RandomForestClassifier(\n",
    "#     n_estimators=25,\n",
    "#     random_state=42,\n",
    "#     n_jobs=-1,\n",
    "#     class_weight='balanced'  # Handle imbalance\n",
    "# )\n",
    "\n",
    "# cv = StratifiedKFold(n_splits=5, shuffle=True, random_state=42)\n",
    "\n",
    "# param_grid = {\n",
    "#     'max_depth': [10, 20],  # None = expand fully\n",
    "#     'max_features': ['sqrt', 'log2'], # features per split\n",
    "#     'min_samples_split': [5, 10]   # control overfitting\n",
    "# }\n",
    "\n",
    "# grid_search = GridSearchCV(\n",
    "#     estimator=rf_model,\n",
    "#     param_grid=param_grid,\n",
    "#     scoring='roc_auc',  # optimize for AUC\n",
    "#     cv=cv,\n",
    "#     n_jobs=-1,\n",
    "#     verbose=2\n",
    "# )\n",
    "# grid_search.fit(X_train, y_train)\n",
    "\n",
    "# print(\"Best Parameters:\", grid_search.best_params_)\n",
    "# print(\"Best ROC AUC:\", grid_search.best_score_)"
   ]
  },
  {
   "cell_type": "code",
   "execution_count": null,
   "id": "ca4751ed",
   "metadata": {},
   "outputs": [
    {
     "name": "stdout",
     "output_type": "stream",
     "text": [
      "Test ROC AUC: 0.716935230809707\n"
     ]
    }
   ],
   "source": [
    "# from sklearn.metrics import roc_auc_score\n",
    "\n",
    "# best_rf = grid_search.best_estimator_\n",
    "# y_proba = best_rf.predict_proba(X_test)[:, 1]\n",
    "# print(\"Test ROC AUC:\", roc_auc_score(y_test, y_proba))"
   ]
  },
  {
   "cell_type": "code",
   "execution_count": null,
   "id": "ee848c55",
   "metadata": {},
   "outputs": [],
   "source": [
    "# plot_feature_importances(best_rf)"
   ]
  },
  {
   "cell_type": "markdown",
   "id": "01773d62",
   "metadata": {},
   "source": [
    "# XGBoost"
   ]
  },
  {
   "cell_type": "code",
   "execution_count": 77,
   "id": "77315670",
   "metadata": {},
   "outputs": [
    {
     "name": "stdout",
     "output_type": "stream",
     "text": [
      "scale_pos_weight: 4.00936945826565\n"
     ]
    },
    {
     "name": "stderr",
     "output_type": "stream",
     "text": [
      "c:\\Users\\lukeh\\AppData\\Local\\Programs\\Python\\Python312\\Lib\\site-packages\\xgboost\\training.py:183: UserWarning: [19:28:34] WARNING: C:\\actions-runner\\_work\\xgboost\\xgboost\\src\\common\\error_msg.cc:27: The tree method `gpu_hist` is deprecated since 2.0.0. To use GPU training, set the `device` parameter to CUDA instead.\n",
      "\n",
      "    E.g. tree_method = \"hist\", device = \"cuda\"\n",
      "\n",
      "  bst.update(dtrain, iteration=i, fobj=obj)\n",
      "c:\\Users\\lukeh\\AppData\\Local\\Programs\\Python\\Python312\\Lib\\site-packages\\xgboost\\core.py:2676: UserWarning: [19:28:40] WARNING: C:\\actions-runner\\_work\\xgboost\\xgboost\\src\\common\\error_msg.cc:27: The tree method `gpu_hist` is deprecated since 2.0.0. To use GPU training, set the `device` parameter to CUDA instead.\n",
      "\n",
      "    E.g. tree_method = \"hist\", device = \"cuda\"\n",
      "\n",
      "  if len(data.shape) != 1 and self.num_features() != data.shape[1]:\n"
     ]
    },
    {
     "name": "stdout",
     "output_type": "stream",
     "text": [
      "XGBoost ROC AUC: 0.7352468432020971\n"
     ]
    }
   ],
   "source": [
    "import xgboost as xgb\n",
    "from sklearn.metrics import roc_auc_score, roc_curve, classification_report\n",
    "\n",
    "neg, pos = np.bincount(y_train)\n",
    "scale_pos_weight = neg / pos\n",
    "print(\"scale_pos_weight:\", scale_pos_weight)\n",
    "\n",
    "xgb_model = xgb.XGBClassifier(\n",
    "    n_estimators=400,        # number of trees\n",
    "    max_depth=5,            # depth of trees\n",
    "    learning_rate=0.1,       # shrinkage\n",
    "    subsample=0.8,           # row sampling\n",
    "    colsample_bytree=0.8,    # feature sampling\n",
    "    scale_pos_weight=scale_pos_weight,  # handle imbalance\n",
    "    eval_metric='auc',       # track ROC AUC\n",
    "    tree_method='gpu_hist',\n",
    "    random_state=42,\n",
    "    n_jobs=-1\n",
    ")\n",
    "\n",
    "xgb_model.fit(X_train, y_train)\n",
    "\n",
    "y_proba = xgb_model.predict_proba(X_test)[:, 1]\n",
    "auc_score = roc_auc_score(y_test, y_proba)\n",
    "print(\"XGBoost ROC AUC:\", auc_score)"
   ]
  },
  {
   "cell_type": "code",
   "execution_count": 32,
   "id": "c9e61890",
   "metadata": {},
   "outputs": [
    {
     "name": "stdout",
     "output_type": "stream",
     "text": [
      "PR AUC: 0.40681454972520753\n"
     ]
    }
   ],
   "source": [
    "from sklearn.metrics import precision_recall_curve, auc\n",
    "\n",
    "precision, recall, thresholds = precision_recall_curve(y_test, y_proba)\n",
    "pr_auc = auc(recall, precision)\n",
    "print(\"PR AUC:\", pr_auc)"
   ]
  },
  {
   "cell_type": "code",
   "execution_count": 75,
   "id": "b81fb646",
   "metadata": {},
   "outputs": [
    {
     "name": "stdout",
     "output_type": "stream",
     "text": [
      "Best threshold: 0.29\n",
      "Min expected cost: 188056\n"
     ]
    }
   ],
   "source": [
    "import numpy as np\n",
    "\n",
    "cost_fn = 10  # relative cost\n",
    "cost_fp = 1\n",
    "\n",
    "thresholds = np.linspace(0, 1, 101)\n",
    "best_threshold, best_cost = 0, float('inf')\n",
    "\n",
    "for t in thresholds:\n",
    "    y_pred = (y_proba >= t).astype(int)\n",
    "    FN = np.sum((y_test==1) & (y_pred==0))\n",
    "    FP = np.sum((y_test==0) & (y_pred==1))\n",
    "    cost = FN*cost_fn + FP*cost_fp\n",
    "    \n",
    "    if cost < best_cost:\n",
    "        best_cost = cost\n",
    "        best_threshold = t\n",
    "\n",
    "print(\"Best threshold:\", best_threshold)\n",
    "print(\"Min expected cost:\", best_cost)"
   ]
  },
  {
   "cell_type": "code",
   "execution_count": 78,
   "id": "92f99f98",
   "metadata": {},
   "outputs": [
    {
     "name": "stdout",
     "output_type": "stream",
     "text": [
      "              precision    recall  f1-score   support\n",
      "\n",
      "           0       0.89      0.66      0.76    215350\n",
      "           1       0.33      0.68      0.45     53712\n",
      "\n",
      "    accuracy                           0.66    269062\n",
      "   macro avg       0.61      0.67      0.60    269062\n",
      "weighted avg       0.78      0.66      0.70    269062\n",
      "\n",
      "\n",
      "              precision    recall  f1-score   support\n",
      "\n",
      "           0       0.91      0.57      0.70    215350\n",
      "           1       0.31      0.76      0.44     53712\n",
      "\n",
      "    accuracy                           0.61    269062\n",
      "   macro avg       0.61      0.67      0.57    269062\n",
      "weighted avg       0.79      0.61      0.65    269062\n",
      "\n",
      "\n",
      "              precision    recall  f1-score   support\n",
      "\n",
      "           0       0.95      0.30      0.45    215350\n",
      "           1       0.25      0.93      0.39     53712\n",
      "\n",
      "    accuracy                           0.42    269062\n",
      "   macro avg       0.60      0.61      0.42    269062\n",
      "weighted avg       0.81      0.42      0.44    269062\n",
      "\n",
      "\n",
      "              precision    recall  f1-score   support\n",
      "\n",
      "           0       0.97      0.13      0.22    215350\n",
      "           1       0.22      0.98      0.36     53712\n",
      "\n",
      "    accuracy                           0.30    269062\n",
      "   macro avg       0.59      0.55      0.29    269062\n",
      "weighted avg       0.82      0.30      0.25    269062\n",
      "\n"
     ]
    }
   ],
   "source": [
    "y_pred = (y_proba >= 0.5).astype(int)\n",
    "print(classification_report(y_test, y_pred))\n",
    "print()\n",
    "\n",
    "y_pred = (y_proba >= 0.45).astype(int) # 5:1 cost_fn:cost_fp\n",
    "print(classification_report(y_test, y_pred))\n",
    "print()\n",
    "\n",
    "y_pred = (y_proba >= 0.29).astype(int) # 10:1 cost_fn:cost_fp\n",
    "print(classification_report(y_test, y_pred))\n",
    "print()\n",
    "\n",
    "y_pred = (y_proba >= 0.18).astype(int) # 20:1 cost_fn:cost_fp\n",
    "print(classification_report(y_test, y_pred))"
   ]
  },
  {
   "cell_type": "code",
   "execution_count": null,
   "id": "0b204b59",
   "metadata": {},
   "outputs": [
    {
     "data": {
      "image/png": "[encoded data removed]",
      "text/plain": [
       "<Figure size 600x400 with 1 Axes>"
      ]
     },
     "metadata": {},
     "output_type": "display_data"
    }
   ],
   "source": [
    "fpr, tpr, _ = roc_curve(y_test, y_proba)\n",
    "\n",
    "plt.figure(figsize=(6,4))\n",
    "plt.plot(fpr, tpr, label=f\"AUC = {auc_score:.3f}\")\n",
    "plt.plot([0, 1], [0, 1], linestyle='--', color='gray')\n",
    "plt.xlabel(\"False Positive Rate\")\n",
    "plt.ylabel(\"True Positive Rate\")\n",
    "plt.title(\"XGBoost ROC Curve\")\n",
    "plt.legend()\n",
    "plt.show()"
   ]
  },
  {
   "cell_type": "markdown",
   "id": "2bcc7afa",
   "metadata": {},
   "source": [
    "XGBoost is too computationally intense to tune hyperparameters."
   ]
  }
 ],
 "metadata": {
  "kernelspec": {
   "display_name": "Python 3",
   "language": "python",
   "name": "python3"
  },
  "language_info": {
   "codemirror_mode": {
    "name": "ipython",
    "version": 3
   },
   "file_extension": ".py",
   "mimetype": "text/x-python",
   "name": "python",
   "nbconvert_exporter": "python",
   "pygments_lexer": "ipython3",
   "version": "3.12.1"
  }
 },
 "nbformat": 4,
 "nbformat_minor": 5
}
