{
 "cells": [
  {
   "cell_type": "markdown",
   "id": "ac9416f7",
   "metadata": {},
   "source": [
    "# Logistic Regression"
   ]
  },
  {
   "cell_type": "markdown",
   "id": "cd769475",
   "metadata": {},
   "source": [
    "## Import Data"
   ]
  },
  {
   "cell_type": "code",
   "execution_count": 18,
   "id": "5d6227fe",
   "metadata": {},
   "outputs": [
    {
     "name": "stdout",
     "output_type": "stream",
     "text": [
      "(1076248, 80)\n",
      "(269062, 80)\n"
     ]
    }
   ],
   "source": [
    "import numpy as np\n",
    "import pandas as pd\n",
    "\n",
    "train_df = pd.read_parquet(\"../data/train_lin_preprocessed.parquet\")\n",
    "print(train_df.shape)\n",
    "\n",
    "X_train = train_df.drop(columns = ['target'])\n",
    "y_train = train_df['target']\n",
    "\n",
    "test_df = pd.read_parquet(\"../data/test_lin_preprocessed.parquet\")\n",
    "print(test_df.shape)\n",
    "\n",
    "X_test = test_df.drop(columns = ['target'])\n",
    "y_test = test_df['target']"
   ]
  },
  {
   "cell_type": "markdown",
   "id": "f6690d0a",
   "metadata": {},
   "source": [
    "## Analyse Collinearity"
   ]
  },
  {
   "cell_type": "markdown",
   "id": "1c7eb911",
   "metadata": {},
   "source": [
    "### Drop Uncorrelated Features"
   ]
  },
  {
   "cell_type": "code",
   "execution_count": 19,
   "id": "1f405968",
   "metadata": {},
   "outputs": [
    {
     "data": {
      "text/plain": [
       "(1076248, 65)"
      ]
     },
     "execution_count": 19,
     "metadata": {},
     "output_type": "execute_result"
    }
   ],
   "source": [
    "import pandas as pd\n",
    "\n",
    "def drop_low_corr_features(df: pd.DataFrame, threshold: float):\n",
    "    corr_with_target = df.corr()['target'].abs()\n",
    "\n",
    "    # 2) Find features below the threshold (excluding the target itself)\n",
    "    to_drop = corr_with_target[corr_with_target < threshold].index.tolist()\n",
    "\n",
    "    # 3) Drop them from the original df\n",
    "    df_reduced = df.drop(columns=to_drop)\n",
    "\n",
    "    return df_reduced\n",
    "\n",
    "red_train_df = drop_low_corr_features(train_df.copy(), 0.01)\n",
    "red_train_df.shape"
   ]
  },
  {
   "cell_type": "markdown",
   "id": "35d851bf",
   "metadata": {},
   "source": [
    "### Correlation Matrix"
   ]
  },
  {
   "cell_type": "code",
   "execution_count": 20,
   "id": "fceefbef",
   "metadata": {},
   "outputs": [],
   "source": [
    "import networkx as nx\n",
    "from itertools import combinations\n",
    "import pandas as pd\n",
    "\n",
    "def collinearity_blocks(df: pd.DataFrame, cols: list[str],threshold):\n",
    "\n",
    "    # ── NEW: ensure target isn’t in the feature list ───────────────────────\n",
    "    cols = [c for c in cols if c != 'target']\n",
    "    cols_to_drop = []\n",
    "\n",
    "    # 1) absolute correlation matrix for the chosen columns\n",
    "    corr = df[cols].corr().abs()\n",
    "\n",
    "    # 2) build a graph linking any pair above the threshold\n",
    "    G = nx.Graph()\n",
    "    G.add_nodes_from(cols)\n",
    "    for i, j in combinations(cols, 2):\n",
    "        if corr.loc[i, j] > threshold:\n",
    "            G.add_edge(i, j)\n",
    "\n",
    "    # 3) connected components = collinear blocks\n",
    "    groups = list(nx.connected_components(G))\n",
    "\n",
    "    # 4) optional pretty-print\n",
    "    for idx, block in enumerate(groups, 1):\n",
    "        if len(block) != 1:\n",
    "            temp_corr = 0\n",
    "            temp_feat = None\n",
    "            block_cols_to_drop = []\n",
    "            print(f\"\\nBlock {idx}:\")\n",
    "            for feat in sorted(block):\n",
    "                r = df[feat].corr(df['target'])\n",
    "                print(f\"  • {feat:20s} corr with target = {r:.3f}\")\n",
    "                block_cols_to_drop.append(feat)\n",
    "                r_abs = np.abs(r)\n",
    "\n",
    "                if r_abs > temp_corr:\n",
    "                    temp_corr = r_abs\n",
    "                    temp_feat = feat\n",
    "            \n",
    "            block_cols_to_drop.remove(temp_feat)\n",
    "            cols_to_drop += block_cols_to_drop\n",
    "\n",
    "    return cols_to_drop"
   ]
  },
  {
   "cell_type": "code",
   "execution_count": 21,
   "id": "6231ffa2",
   "metadata": {},
   "outputs": [
    {
     "name": "stdout",
     "output_type": "stream",
     "text": [
      "\n",
      "Block 2:\n",
      "  • installment          corr with target = 0.051\n",
      "  • loan_amnt            corr with target = 0.065\n",
      "  • total_amnt_due       corr with target = 0.117\n",
      "\n",
      "Block 3:\n",
      "  • int_rate             corr with target = 0.259\n",
      "  • sub_grade_encoded    corr with target = 0.268\n",
      "  • term_x_sub_grade     corr with target = 0.271\n",
      "\n",
      "Block 8:\n",
      "  • num_op_rev_tl        corr with target = 0.034\n",
      "  • num_sats             corr with target = 0.026\n",
      "  • open_acc             corr with target = 0.028\n",
      "\n",
      "Block 10:\n",
      "  • revol_bal            corr with target = -0.021\n",
      "  • total_rev_hi_lim     corr with target = -0.051\n",
      "\n",
      "Block 13:\n",
      "  • avg_cur_bal          corr with target = -0.071\n",
      "  • tot_cur_bal          corr with target = -0.068\n",
      "  • tot_hi_cred_lim      corr with target = -0.075\n",
      "\n",
      "Block 15:\n",
      "  • bc_open_to_buy       corr with target = -0.077\n",
      "  • total_bc_limit       corr with target = -0.070\n",
      "\n",
      "Block 16:\n",
      "  • bc_util              corr with target = 0.068\n",
      "  • percent_bc_gt_75     corr with target = 0.069\n",
      "\n",
      "Block 24:\n",
      "  • num_actv_bc_tl       corr with target = 0.042\n",
      "  • num_actv_rev_tl      corr with target = 0.070\n",
      "  • num_bc_sats          corr with target = 0.015\n",
      "  • num_rev_tl_bal_gt_0  corr with target = 0.069\n",
      "\n",
      "Block 30:\n",
      "  • dti_clipped          corr with target = 0.108\n",
      "  • total_dti_clipped    corr with target = 0.138\n",
      "\n",
      "Block 36:\n",
      "  • term_36.0            corr with target = -0.176\n",
      "  • term_60.0            corr with target = 0.176\n",
      "\n",
      "Block 45:\n",
      "  • application_type_Individual corr with target = -0.015\n",
      "  • application_type_Joint App corr with target = 0.015\n",
      "\n",
      "Block 46:\n",
      "  • home_ownership_grouped_MORTGAGE corr with target = -0.068\n",
      "  • home_ownership_grouped_RENT corr with target = 0.066\n"
     ]
    },
    {
     "data": {
      "text/plain": [
       "['installment',\n",
       " 'loan_amnt',\n",
       " 'int_rate',\n",
       " 'sub_grade_encoded',\n",
       " 'num_sats',\n",
       " 'open_acc',\n",
       " 'revol_bal',\n",
       " 'avg_cur_bal',\n",
       " 'tot_cur_bal',\n",
       " 'total_bc_limit',\n",
       " 'bc_util',\n",
       " 'num_actv_bc_tl',\n",
       " 'num_bc_sats',\n",
       " 'num_rev_tl_bal_gt_0',\n",
       " 'dti_clipped',\n",
       " 'term_60.0',\n",
       " 'application_type_Joint App',\n",
       " 'home_ownership_grouped_RENT']"
      ]
     },
     "execution_count": 21,
     "metadata": {},
     "output_type": "execute_result"
    }
   ],
   "source": [
    "collinearity_blocks(red_train_df,red_train_df.columns,0.8)"
   ]
  },
  {
   "cell_type": "code",
   "execution_count": 22,
   "id": "15b1dae2",
   "metadata": {},
   "outputs": [
    {
     "data": {
      "text/plain": [
       "(1076248, 47)"
      ]
     },
     "execution_count": 22,
     "metadata": {},
     "output_type": "execute_result"
    }
   ],
   "source": [
    "# Let's use the above list to help us cherry pick which columns to drop.\n",
    "# We will # out the columns of the list we want to retain, and include adjacent to them the column we will drop in its place.\n",
    "\n",
    "high_corr_cols_to_drop = ['installment',\n",
    " 'loan_amnt', # Made redundant by 'total_amnt_due'\n",
    " 'int_rate', # It seems strange to drop interest rate, however it appears to be nearly entirely determined by subgrade, so let's keep term_x_sub_grade\n",
    " 'sub_grade_encoded', # as it is the most predictive and likely the most informative since it also includes the term. This may allow us to drop both of the term columns later on.\n",
    " 'num_sats',\n",
    " 'open_acc',\n",
    " 'revol_bal',\n",
    " 'avg_cur_bal',\n",
    " 'tot_cur_bal',\n",
    " 'total_bc_limit',\n",
    " 'percent_bc_gt_75',\n",
    "#  'bc_util', Seems more informative than 'percent_bc_gt_75'.\n",
    " 'num_actv_bc_tl',\n",
    " 'num_bc_sats',\n",
    " 'num_rev_tl_bal_gt_0',\n",
    " 'dti_clipped',\n",
    " 'term_36.0',\n",
    "#  'term_60.0', Personal choice, as a term of 60 is more common.\n",
    " 'application_type_Joint App',\n",
    " 'home_ownership_grouped_RENT']\n",
    "\n",
    "red_train_df = red_train_df.drop(columns=high_corr_cols_to_drop)\n",
    "red_train_df.shape"
   ]
  },
  {
   "cell_type": "markdown",
   "id": "1765db03",
   "metadata": {},
   "source": [
    "We have already reduced from 79 features to 46 just by removing features with low correlation to the target and features with high collinearity. Let's further look at collinearity to see if we can reduce the number of features any more before moving on to analysing VIFs."
   ]
  },
  {
   "cell_type": "code",
   "execution_count": 7,
   "id": "a46d954c",
   "metadata": {},
   "outputs": [
    {
     "name": "stdout",
     "output_type": "stream",
     "text": [
      "\n",
      "Block 2:\n",
      "  • loan_amnt            corr with target = 0.065\n",
      "  • total_amnt_due       corr with target = 0.117\n",
      "\n",
      "Block 8:\n",
      "  • bc_util              corr with target = 0.068\n",
      "  • revol_util           corr with target = 0.059\n",
      "\n",
      "Block 11:\n",
      "  • acc_open_past_24mths corr with target = 0.098\n",
      "  • num_tl_op_past_12m   corr with target = 0.084\n",
      "\n",
      "Block 20:\n",
      "  • num_actv_rev_tl      corr with target = 0.070\n",
      "  • num_op_rev_tl        corr with target = 0.034\n",
      "\n",
      "Block 28:\n",
      "  • acct_null_flag       corr with target = -0.027\n",
      "  • zero_il_accts_flag   corr with target = -0.018\n",
      "  • zero_recent_bc_flag  corr with target = -0.022\n",
      "\n",
      "Block 30:\n",
      "  • term_60.0            corr with target = 0.176\n",
      "  • term_x_sub_grade     corr with target = 0.271\n"
     ]
    },
    {
     "data": {
      "text/plain": [
       "['loan_amnt',\n",
       " 'revol_util',\n",
       " 'num_tl_op_past_12m',\n",
       " 'num_op_rev_tl',\n",
       " 'zero_il_accts_flag',\n",
       " 'zero_recent_bc_flag',\n",
       " 'term_60.0']"
      ]
     },
     "execution_count": 7,
     "metadata": {},
     "output_type": "execute_result"
    }
   ],
   "source": [
    "collinearity_blocks(red_train_df,red_train_df.columns,0.7)"
   ]
  },
  {
   "cell_type": "code",
   "execution_count": 24,
   "id": "59b3da42",
   "metadata": {},
   "outputs": [
    {
     "data": {
      "text/plain": [
       "(1076248, 41)"
      ]
     },
     "execution_count": 24,
     "metadata": {},
     "output_type": "execute_result"
    }
   ],
   "source": [
    "# Looking at these and comparing with the data dictionary, we know that each block of features are fairly similar in definition and likely don't add much.\n",
    "# Therefore we can drop these features as before. Note that, as asserted previously, we can now drop both term columns.\n",
    "# I also ran these through the VIF function below and they had higher values than most other features.\n",
    "\n",
    "med_corr_cols_to_drop = ['revol_util',\n",
    " 'num_tl_op_past_12m',\n",
    " 'num_op_rev_tl',\n",
    " 'zero_il_accts_flag',\n",
    " 'zero_recent_bc_flag',\n",
    " 'term_60.0']\n",
    "\n",
    "red_train_df = red_train_df.drop(columns=med_corr_cols_to_drop)\n",
    "red_train_df.shape"
   ]
  },
  {
   "cell_type": "markdown",
   "id": "7d9ce6ca",
   "metadata": {},
   "source": [
    "### VIF"
   ]
  },
  {
   "cell_type": "markdown",
   "id": "8ff9d35c",
   "metadata": {},
   "source": [
    "VIF will be very computationally expensive unless we reduce the number of features by looking at both correlation with the target and their multicollinearity with other features."
   ]
  },
  {
   "cell_type": "code",
   "execution_count": 9,
   "id": "29f591b3",
   "metadata": {},
   "outputs": [],
   "source": [
    "import statsmodels.api as sm\n",
    "from statsmodels.stats.outliers_influence import variance_inflation_factor\n",
    "\n",
    "def vif(df):\n",
    "    X = sm.add_constant(red_train_df)\n",
    "    vif_data = pd.DataFrame({\n",
    "        \"feature\": red_train_df.columns,\n",
    "        \"VIF\": [variance_inflation_factor(X, i+1)  # +1 to skip the constant\n",
    "                for i in range(len(red_train_df.columns))]\n",
    "    })\n",
    "    return vif_data.sort_values(by=\"VIF\", ascending=False)"
   ]
  },
  {
   "cell_type": "code",
   "execution_count": 10,
   "id": "db3bb3b2",
   "metadata": {},
   "outputs": [],
   "source": [
    "# print(vif(red_train_df))"
   ]
  },
  {
   "cell_type": "code",
   "execution_count": 25,
   "id": "f01eefcd",
   "metadata": {},
   "outputs": [],
   "source": [
    "# Clearly we need to drop one of the verification status columns. Let's drop not verified.\n",
    "\n",
    "red_train_df = red_train_df.drop(columns=['verification_status_Not Verified'])"
   ]
  },
  {
   "cell_type": "code",
   "execution_count": 23,
   "id": "3fbe812f",
   "metadata": {},
   "outputs": [
    {
     "data": {
      "image/png": "[encoded data removed]",
      "text/plain": [
       "<Figure size 600x500 with 2 Axes>"
      ]
     },
     "metadata": {},
     "output_type": "display_data"
    }
   ],
   "source": [
    "# Now let's look at the correlations among 'loan_amnt', 'loan_to_income_clipped', 'log_annual_inc' and 'annual_inc'.\n",
    "\n",
    "import seaborn as sns\n",
    "import matplotlib.pyplot as plt\n",
    "\n",
    "# Select only the four columns\n",
    "cols = ['total_amnt_due', 'log_annual_inc', 'annual_inc']\n",
    "subset = red_train_df[cols]\n",
    "\n",
    "# Compute and display the correlation matrix\n",
    "corr_matrix = subset.corr()\n",
    "\n",
    "plt.figure(figsize=(6, 5))\n",
    "sns.heatmap(\n",
    "    corr_matrix,\n",
    "    annot=True,        # show the correlation coefficients\n",
    "    fmt=\".2f\",         # two decimal places\n",
    "    cmap=\"RdBu_r\",     # diverging palette\n",
    "    vmin=-1, vmax=1,   # fixed colour scale\n",
    "    xticklabels=cols,\n",
    "    yticklabels=cols,\n",
    "    square=True,\n",
    "    cbar_kws={\"shrink\": .75}\n",
    ")\n",
    "\n",
    "# Tidy up the labels\n",
    "plt.xticks(rotation=45, ha='right')\n",
    "plt.yticks(rotation=0)\n",
    "plt.title(\"Correlation Matrix for Selected Features\", pad=15)\n",
    "plt.tight_layout()\n",
    "plt.show()\n"
   ]
  },
  {
   "cell_type": "code",
   "execution_count": null,
   "id": "033fad4d",
   "metadata": {},
   "outputs": [],
   "source": [
    "# Let's drop 'loan_amnt' as 'loan_to_income_clipped' is far more predictive, and we're happy measuring the size of a loan by the multiple of an applicant's income.\n",
    "\n",
    "red_train_df = red_train_df.drop(columns=['loan_amnt'])"
   ]
  },
  {
   "cell_type": "code",
   "execution_count": 26,
   "id": "90b768aa",
   "metadata": {},
   "outputs": [
    {
     "name": "stdout",
     "output_type": "stream",
     "text": [
      "                                feature       VIF\n",
      "26                       log_annual_inc  3.053704\n",
      "34           purpose_debt_consolidation  2.780109\n",
      "33                  purpose_credit_card  2.519128\n",
      "6                             total_acc  2.518805\n",
      "9                        bc_open_to_buy  2.477802\n",
      "25                       total_amnt_due  2.445333\n",
      "22                      tot_hi_cred_lim  2.282524\n",
      "19                            num_bc_tl  2.275605\n",
      "13                mo_sin_rcnt_rev_tl_op  2.199745\n",
      "7                      total_rev_hi_lim  2.183573\n",
      "23                             fico_avg  2.110537\n",
      "10                              bc_util  1.998364\n",
      "29                     term_x_sub_grade  1.930523\n",
      "8                  acc_open_past_24mths  1.849038\n",
      "14                       mo_sin_rcnt_tl  1.839499\n",
      "24                    total_dti_clipped  1.834518\n",
      "21                 pub_rec_bankruptcies  1.828364\n",
      "2                            annual_inc  1.806691\n",
      "5                               pub_rec  1.759940\n",
      "15                             mort_acc  1.731584\n",
      "18                      num_actv_rev_tl  1.728747\n",
      "16                 mths_since_recent_bc  1.637526\n",
      "4                        inq_last_6mths  1.588528\n",
      "31         verification_status_Verified  1.581780\n",
      "35             purpose_home_improvement  1.527570\n",
      "28                       zero_inqs_flag  1.517869\n",
      "17                mths_since_recent_inq  1.513270\n",
      "27                       acct_null_flag  1.507602\n",
      "20                       pct_tl_nvr_dlq  1.495362\n",
      "30  verification_status_Source Verified  1.492220\n",
      "38      home_ownership_grouped_MORTGAGE  1.482842\n",
      "12                 mo_sin_old_rev_tl_op  1.340085\n",
      "3                           delinq_2yrs  1.310254\n",
      "11                   mo_sin_old_il_acct  1.210979\n",
      "39                               target  1.105338\n",
      "36               purpose_small_business  1.098908\n",
      "1                            emp_length  1.093219\n",
      "32                          purpose_car  1.087223\n",
      "37          application_type_Individual  1.063702\n",
      "0                            addr_state  1.008401\n"
     ]
    }
   ],
   "source": [
    "print(vif(red_train_df))"
   ]
  },
  {
   "cell_type": "markdown",
   "id": "d3c2f90b",
   "metadata": {},
   "source": [
    "These all look very healthy now."
   ]
  },
  {
   "cell_type": "code",
   "execution_count": 27,
   "id": "40e2c7d9",
   "metadata": {},
   "outputs": [
    {
     "name": "stdout",
     "output_type": "stream",
     "text": [
      "(1076248, 40)\n"
     ]
    }
   ],
   "source": [
    "print(red_train_df.shape)"
   ]
  },
  {
   "cell_type": "markdown",
   "id": "3369cfa0",
   "metadata": {},
   "source": [
    "### PCA"
   ]
  },
  {
   "cell_type": "code",
   "execution_count": null,
   "id": "4f55afc1",
   "metadata": {},
   "outputs": [],
   "source": [
    "from sklearn.decomposition import PCA\n",
    "\n",
    "def pca_summary(df: pd.DataFrame, threshold: float = 0.95):\n",
    "\n",
    "    X = df.copy()\n",
    "    if 'target' in X.columns:\n",
    "        X = X.drop(columns='target')\n",
    "    \n",
    "    pca_full = PCA()\n",
    "    pca_full.fit(X)\n",
    "    evr = pca_full.explained_variance_ratio_\n",
    "    cum_evr = np.cumsum(evr)\n",
    "    \n",
    "    plt.figure(figsize=(8,5))\n",
    "    plt.plot(range(1, min(10, len(evr))+1), evr[:10], marker='o')\n",
    "    plt.xticks(range(1, min(10, len(evr))+1))\n",
    "    plt.xlabel(\"Principal Component\")\n",
    "    plt.ylabel(\"Explained Variance Ratio\")\n",
    "    plt.title(\"Variance Explained by the First 10 Principal Components\")\n",
    "    plt.tight_layout()\n",
    "    plt.show()\n",
    "    \n",
    "    plt.figure(figsize=(7,4))\n",
    "    plt.plot(np.arange(1, len(cum_evr)+1), cum_evr, marker='o')\n",
    "    plt.axhline(threshold, color='red', linestyle='--', \n",
    "                label=f\"{int(threshold*100)}% threshold\")\n",
    "    plt.xlabel(\"Number of Principal Components\")\n",
    "    plt.ylabel(\"Cumulative Explained Variance\")\n",
    "    plt.title(\"Cumulative Variance Explained by PCA\")\n",
    "    plt.xticks(np.arange(0, len(cum_evr)+1, max(1, len(cum_evr)//10)))\n",
    "    plt.ylim(0, 1.02)\n",
    "    plt.legend()\n",
    "    plt.tight_layout()\n",
    "    plt.show()\n",
    "    \n",
    "    n_components = int(np.argmax(cum_evr >= threshold) + 1)\n",
    "    \n",
    "    loadings = pd.DataFrame(\n",
    "        pca_full.components_,\n",
    "        index=[f\"PC{i+1}\" for i in range(len(evr))],\n",
    "        columns=X.columns\n",
    "    )\n",
    "    print(f\"\\nComponents explaining >5% of the variance:\\n\")\n",
    "    for i, var_ratio in enumerate(evr):\n",
    "        if var_ratio > 0.05:\n",
    "            pc_label = f\"PC{i+1}\"\n",
    "            top_feats = (\n",
    "                loadings.loc[pc_label]\n",
    "                .abs()\n",
    "                .sort_values(ascending=False)\n",
    "                .head(5)\n",
    "            )\n",
    "            print(f\"{pc_label} ({var_ratio:.2%} of variance):\")\n",
    "            for feat, loading in top_feats.items():\n",
    "                print(f\"  • {feat:25s} loading = {loading:.3f}\")\n",
    "            print()\n",
    "    \n",
    "    return n_components\n"
   ]
  },
  {
   "cell_type": "code",
   "execution_count": null,
   "id": "95511db3",
   "metadata": {},
   "outputs": [
    {
     "data": {
      "image/png": "[encoded data removed]",
      "text/plain": [
       "<Figure size 800x500 with 1 Axes>"
      ]
     },
     "metadata": {},
     "output_type": "display_data"
    },
    {
     "data": {
      "image/png": "[encoded data removed]",
      "text/plain": [
       "<Figure size 700x400 with 1 Axes>"
      ]
     },
     "metadata": {},
     "output_type": "display_data"
    },
    {
     "name": "stdout",
     "output_type": "stream",
     "text": [
      "\n",
      "Components explaining >5% of the variance:\n",
      "\n",
      "PC1 (16.89% of variance):\n",
      "  • open_acc                  loading = 0.265\n",
      "  • num_sats                  loading = 0.264\n",
      "  • num_op_rev_tl             loading = 0.257\n",
      "  • num_bc_sats               loading = 0.238\n",
      "  • num_rev_accts             loading = 0.236\n",
      "\n",
      "PC2 (9.54% of variance):\n",
      "  • sub_grade_encoded         loading = 0.290\n",
      "  • int_rate                  loading = 0.285\n",
      "  • term_x_sub_grade          loading = 0.253\n",
      "  • total_dti_clipped         loading = 0.231\n",
      "  • fico_avg                  loading = 0.226\n",
      "\n",
      "PC3 (8.52% of variance):\n",
      "  • bc_util                   loading = 0.287\n",
      "  • revol_util                loading = 0.279\n",
      "  • percent_bc_gt_75          loading = 0.264\n",
      "  • avg_cur_bal               loading = 0.241\n",
      "  • loan_amnt                 loading = 0.216\n",
      "\n",
      "PC4 (6.48% of variance):\n",
      "  • loan_to_income_clipped    loading = 0.322\n",
      "  • installment_to_income_clipped loading = 0.314\n",
      "  • num_tl_op_past_12m        loading = 0.238\n",
      "  • acc_open_past_24mths      loading = 0.224\n",
      "  • num_il_tl                 loading = 0.209\n",
      "\n",
      "PC5 (5.49% of variance):\n",
      "  • zero_recent_bc_flag       loading = 0.303\n",
      "  • acct_null_flag            loading = 0.300\n",
      "  • bc_util                   loading = 0.270\n",
      "  • zero_il_accts_flag        loading = 0.248\n",
      "  • term_x_sub_grade          loading = 0.225\n",
      "\n"
     ]
    },
    {
     "data": {
      "text/plain": [
       "36"
      ]
     },
     "execution_count": 44,
     "metadata": {},
     "output_type": "execute_result"
    }
   ],
   "source": [
    "pca_summary(train_df)"
   ]
  },
  {
   "cell_type": "markdown",
   "id": "2d7fd3ab",
   "metadata": {},
   "source": [
    "It seems that even with PCA, we would need a lot of features to explain most of the variance. Setting the threshold to 90% requires 28 principal components."
   ]
  },
  {
   "cell_type": "code",
   "execution_count": null,
   "id": "e7a29e75",
   "metadata": {},
   "outputs": [
    {
     "data": {
      "image/png": "[encoded data removed]",
      "text/plain": [
       "<Figure size 800x500 with 1 Axes>"
      ]
     },
     "metadata": {},
     "output_type": "display_data"
    },
    {
     "data": {
      "image/png": "[encoded data removed]",
      "text/plain": [
       "<Figure size 700x400 with 1 Axes>"
      ]
     },
     "metadata": {},
     "output_type": "display_data"
    },
    {
     "name": "stdout",
     "output_type": "stream",
     "text": [
      "\n",
      "Components explaining >5% of the variance:\n",
      "\n",
      "PC1 (13.24% of variance):\n",
      "  • total_acc                 loading = 0.347\n",
      "  • num_bc_tl                 loading = 0.320\n",
      "  • tot_hi_cred_lim           loading = 0.314\n",
      "  • total_rev_hi_lim          loading = 0.314\n",
      "  • log_annual_inc            loading = 0.300\n",
      "\n",
      "PC2 (9.76% of variance):\n",
      "  • mo_sin_rcnt_rev_tl_op     loading = 0.361\n",
      "  • acc_open_past_24mths      loading = 0.325\n",
      "  • mo_sin_rcnt_tl            loading = 0.320\n",
      "  • mths_since_recent_bc      loading = 0.304\n",
      "  • fico_avg                  loading = 0.273\n",
      "\n",
      "PC3 (7.66% of variance):\n",
      "  • bc_util                   loading = 0.415\n",
      "  • fico_avg                  loading = 0.389\n",
      "  • pct_tl_nvr_dlq            loading = 0.311\n",
      "  • bc_open_to_buy            loading = 0.292\n",
      "  • acct_null_flag            loading = 0.249\n",
      "\n",
      "PC4 (6.96% of variance):\n",
      "  • total_dti_clipped         loading = 0.505\n",
      "  • loan_to_income_clipped    loading = 0.482\n",
      "  • num_actv_rev_tl           loading = 0.217\n",
      "  • log_annual_inc            loading = 0.201\n",
      "  • pub_rec                   loading = 0.201\n",
      "\n",
      "PC5 (5.14% of variance):\n",
      "  • pub_rec_bankruptcies      loading = 0.600\n",
      "  • pub_rec                   loading = 0.585\n",
      "  • mo_sin_old_rev_tl_op      loading = 0.196\n",
      "  • delinq_2yrs               loading = 0.180\n",
      "  • term_x_sub_grade          loading = 0.171\n",
      "\n"
     ]
    },
    {
     "data": {
      "text/plain": [
       "28"
      ]
     },
     "execution_count": 45,
     "metadata": {},
     "output_type": "execute_result"
    }
   ],
   "source": [
    "pca_summary(red_train_df)"
   ]
  },
  {
   "cell_type": "markdown",
   "id": "f24900fc",
   "metadata": {},
   "source": [
    "## Modelling without SMOTE"
   ]
  },
  {
   "cell_type": "markdown",
   "id": "e03cebec",
   "metadata": {},
   "source": [
    "### Correlation Matrix & VIF Chosen Features"
   ]
  },
  {
   "cell_type": "code",
   "execution_count": 32,
   "id": "e6c6f9f3",
   "metadata": {},
   "outputs": [],
   "source": [
    "feats = red_train_df.drop(columns=['target']).columns"
   ]
  },
  {
   "cell_type": "markdown",
   "id": "5e07bd13",
   "metadata": {},
   "source": [
    "Using Logistic Regression in it's normal form was taking far too long, so we will use SGDClassifier instead."
   ]
  },
  {
   "cell_type": "code",
   "execution_count": 33,
   "id": "b03c896c",
   "metadata": {},
   "outputs": [],
   "source": [
    "alpha_vals = np.logspace(-2, 0, 3)\n",
    "\n",
    "params = [\n",
    "    # L1 regularisation\n",
    "    {\n",
    "        'penalty': ['l1'],\n",
    "        'alpha':   alpha_vals,\n",
    "    },\n",
    "    # L2 regularisation\n",
    "    {\n",
    "        'penalty': ['l2'],\n",
    "        'alpha':   alpha_vals,\n",
    "    },\n",
    "    # Elastic-net regularisation\n",
    "    {\n",
    "        'penalty':  ['elasticnet'],\n",
    "        'alpha':    alpha_vals,\n",
    "        'l1_ratio': [0.0, 0.5, 1.0],   # 0=L2, 1=L1, .5=mix\n",
    "    },\n",
    "]"
   ]
  },
  {
   "cell_type": "code",
   "execution_count": null,
   "id": "7d888cb9",
   "metadata": {},
   "outputs": [],
   "source": [
    "from sklearn.linear_model import SGDClassifier\n",
    "from sklearn.model_selection import StratifiedKFold, GridSearchCV\n",
    "from sklearn.metrics import roc_auc_score, classification_report, confusion_matrix\n",
    "\n",
    "def cv_sgd_log_reg(train_df: pd.DataFrame, test_df: pd.DataFrame, feats, param_grid, scoring_method: str):\n",
    "    # Prepare data\n",
    "    X = train_df[feats]\n",
    "    y = train_df['target']\n",
    "\n",
    "    # Initialise SGD‐based “logistic regression” with early stopping\n",
    "    sgd = SGDClassifier(\n",
    "        loss='log_loss',               # logistic loss\n",
    "        class_weight='balanced',  # handle 80/20 imbalance\n",
    "        early_stopping=True,      # stop when validation score plateaus\n",
    "        validation_fraction=0.1,  # 10% of train → internal val set\n",
    "        n_iter_no_change=5,       # epochs with no improvement → stop\n",
    "        tol=1e-3,                 # minimum change to count as “improvement”\n",
    "        max_iter=20,            # hard cap on epochs\n",
    "        random_state=42,\n",
    "        verbose=1                 # per-epoch logs\n",
    "    )\n",
    "\n",
    "    # StratifiedKFold preserves the 80/20 target split\n",
    "    cv = StratifiedKFold(n_splits=4, shuffle=True, random_state=42)\n",
    "\n",
    "    grid = GridSearchCV(\n",
    "        estimator=sgd,\n",
    "        param_grid=param_grid,\n",
    "        cv=cv,\n",
    "        scoring=scoring_method,\n",
    "        n_jobs=-1,\n",
    "        verbose=1\n",
    "    )\n",
    "\n",
    "    grid.fit(X, y)\n",
    "\n",
    "    print(\"Best CV ROC AUC:\", grid.best_score_)\n",
    "    print(\"Best parameters:\", grid.best_params_)\n",
    "\n",
    "    # Evaluate on test set\n",
    "    best_model = grid.best_estimator_\n",
    "    X_test_chosen_feats = test_df[feats]\n",
    "    y_test = test_df['target']  # or 'defaulted', whichever you use\n",
    "\n",
    "    # Note: SGDClassifier supports predict_proba after loss='log'\n",
    "    y_pred  = best_model.predict(X_test_chosen_feats)\n",
    "    y_proba = best_model.predict_proba(X_test_chosen_feats)[:, 1]\n",
    "\n",
    "    print(\"Test ROC AUC:\", roc_auc_score(y_test, y_proba))\n",
    "    print(\"Confusion Matrix:\")\n",
    "    print(confusion_matrix(y_test, y_pred))\n",
    "    print(\"\\nClassification Report:\")\n",
    "    print(classification_report(y_test, y_pred))\n"
   ]
  },
  {
   "cell_type": "code",
   "execution_count": null,
   "id": "d362c805",
   "metadata": {},
   "outputs": [
    {
     "name": "stdout",
     "output_type": "stream",
     "text": [
      "Fitting 4 folds for each of 15 candidates, totalling 60 fits\n",
      "-- Epoch 1\n",
      "Norm: 0.66, NNZs: 31, Bias: -0.037040, T: 968623, Avg. loss: 0.626448\n",
      "Total training time: 0.28 seconds.\n",
      "-- Epoch 2\n",
      "Norm: 0.65, NNZs: 31, Bias: -0.022554, T: 1937246, Avg. loss: 0.622276\n",
      "Total training time: 0.56 seconds.\n",
      "-- Epoch 3\n",
      "Norm: 0.65, NNZs: 31, Bias: -0.032059, T: 2905869, Avg. loss: 0.622701\n",
      "Total training time: 0.81 seconds.\n",
      "-- Epoch 4\n",
      "Norm: 0.64, NNZs: 31, Bias: -0.019794, T: 3874492, Avg. loss: 0.621815\n",
      "Total training time: 1.05 seconds.\n",
      "-- Epoch 5\n",
      "Norm: 0.63, NNZs: 31, Bias: -0.022499, T: 4843115, Avg. loss: 0.622421\n",
      "Total training time: 1.30 seconds.\n",
      "-- Epoch 6\n",
      "Norm: 0.63, NNZs: 31, Bias: -0.024470, T: 5811738, Avg. loss: 0.622422\n",
      "Total training time: 1.55 seconds.\n",
      "Convergence after 6 epochs took 1.56 seconds\n",
      "Best CV ROC AUC: 0.7137158989483947\n",
      "Best parameters: {'alpha': 0.01, 'penalty': 'l2'}\n",
      "Test ROC AUC: 0.7139497722082202\n",
      "Confusion Matrix:\n",
      "[[145184  70166]\n",
      " [ 19592  34120]]\n",
      "\n",
      "Classification Report:\n",
      "              precision    recall  f1-score   support\n",
      "\n",
      "           0       0.88      0.67      0.76    215350\n",
      "           1       0.33      0.64      0.43     53712\n",
      "\n",
      "    accuracy                           0.67    269062\n",
      "   macro avg       0.60      0.65      0.60    269062\n",
      "weighted avg       0.77      0.67      0.70    269062\n",
      "\n"
     ]
    }
   ],
   "source": [
    "# cv_sgd_log_reg(train_df,test_df,feats,params,\"roc_auc\")"
   ]
  },
  {
   "cell_type": "code",
   "execution_count": null,
   "id": "cb0d0a1f",
   "metadata": {},
   "outputs": [],
   "source": [
    "# cv_sgd_log_reg(train_df,test_dffeats,params,\"recall\")"
   ]
  },
  {
   "cell_type": "markdown",
   "id": "313cadd8",
   "metadata": {},
   "source": [
    "### All Features"
   ]
  },
  {
   "cell_type": "code",
   "execution_count": null,
   "id": "5d7deae4",
   "metadata": {},
   "outputs": [],
   "source": [
    "# cv_sgd_log_reg(train_df,test_df,train_df.drop(columns=['target']).columns,params,\"roc_auc\")"
   ]
  },
  {
   "cell_type": "code",
   "execution_count": null,
   "id": "f3465515",
   "metadata": {},
   "outputs": [],
   "source": [
    "# cv_sgd_log_reg(train_df,test_df,train_df.drop(columns=['target']).columns,params,\"recall\")"
   ]
  },
  {
   "cell_type": "markdown",
   "id": "b62f89cc",
   "metadata": {},
   "source": [
    "### PCA"
   ]
  },
  {
   "cell_type": "code",
   "execution_count": null,
   "id": "444e92cf",
   "metadata": {},
   "outputs": [
    {
     "name": "stdout",
     "output_type": "stream",
     "text": [
      "Fitting 4 folds for each of 18 candidates, totalling 72 fits\n",
      "Best params: {'clf__alpha': 0.01, 'clf__l1_ratio': 0.0, 'clf__penalty': 'l2', 'pca__n_components': 36}\n",
      "CV ROC AUC : 0.7146383472491555\n",
      "Test ROC AUC: 0.714949136928827\n",
      "              precision    recall  f1-score   support\n",
      "\n",
      "           0       0.88      0.67      0.76    215350\n",
      "           1       0.33      0.64      0.43     53712\n",
      "\n",
      "    accuracy                           0.66    269062\n",
      "   macro avg       0.60      0.66      0.60    269062\n",
      "weighted avg       0.77      0.66      0.70    269062\n",
      "\n"
     ]
    }
   ],
   "source": [
    "from sklearn.pipeline import Pipeline\n",
    "\n",
    "pipe = Pipeline([\n",
    "    ('pca', PCA(random_state=42)),    # we’ll tune n_components\n",
    "    ('clf', SGDClassifier(\n",
    "        loss='log_loss',\n",
    "        class_weight='balanced',\n",
    "        early_stopping=True,\n",
    "        validation_fraction=0.1,\n",
    "        n_iter_no_change=5,\n",
    "        tol=1e-3,\n",
    "        max_iter=20,\n",
    "        random_state=42\n",
    "    ))\n",
    "])\n",
    "\n",
    "PCA_param_grid = [{\n",
    "    'pca__n_components': [36],                 # the amount required for the 95th percentile of variance explained for train_df\n",
    "    'clf__alpha':         alpha_vals,              # regularisation strengths\n",
    "    'clf__penalty':       ['l2', 'elasticnet'],    # penalty types\n",
    "    'clf__l1_ratio':      [0.0, 0.5, 1.0],         # only used for elasticnet\n",
    "}]\n",
    "\n",
    "cv = StratifiedKFold(n_splits=4, shuffle=True, random_state=42)\n",
    "grid = GridSearchCV(pipe, PCA_param_grid, scoring='roc_auc', cv=cv,\n",
    "                    n_jobs=-1, verbose=2)\n",
    "\n",
    "grid.fit(X_train, y_train)\n",
    "\n",
    "print(\"Best params:\", grid.best_params_)\n",
    "print(\"CV ROC AUC :\", grid.best_score_)\n",
    "\n",
    "# Final eval on test\n",
    "y_proba = grid.predict_proba(X_test)[:,1]\n",
    "print(\"Test ROC AUC:\", roc_auc_score(y_test, y_proba))\n",
    "print(classification_report(y_test, grid.predict(X_test)))"
   ]
  },
  {
   "cell_type": "markdown",
   "id": "1fdd14be",
   "metadata": {},
   "source": [
    "As we can see, the PCA transformed logistic regression performs no better."
   ]
  },
  {
   "cell_type": "markdown",
   "id": "70b41f1c",
   "metadata": {},
   "source": [
    "## Modelling with SMOTE"
   ]
  },
  {
   "cell_type": "code",
   "execution_count": 30,
   "id": "67494ddc",
   "metadata": {},
   "outputs": [
    {
     "name": "stdout",
     "output_type": "stream",
     "text": [
      "(1722802, 80)\n",
      "0.5\n"
     ]
    }
   ],
   "source": [
    "from imblearn.over_sampling import SMOTE\n",
    "\n",
    "sm = SMOTE(random_state=42)\n",
    "X_res, y_res = sm.fit_resample(X_train, y_train)\n",
    "\n",
    "res_train_df = X_res.copy()\n",
    "res_train_df['target'] = y_res\n",
    "\n",
    "print(res_train_df.shape)\n",
    "print(res_train_df['target'].mean())"
   ]
  },
  {
   "cell_type": "code",
   "execution_count": null,
   "id": "ae7124a1",
   "metadata": {},
   "outputs": [
    {
     "name": "stdout",
     "output_type": "stream",
     "text": [
      "Fitting 4 folds for each of 15 candidates, totalling 60 fits\n",
      "-- Epoch 1\n",
      "Norm: 0.67, NNZs: 39, Bias: -0.298853, T: 1550521, Avg. loss: 0.617118\n",
      "Total training time: 0.48 seconds.\n",
      "-- Epoch 2\n",
      "Norm: 0.67, NNZs: 39, Bias: -0.295415, T: 3101042, Avg. loss: 0.615289\n",
      "Total training time: 0.96 seconds.\n",
      "-- Epoch 3\n",
      "Norm: 0.67, NNZs: 39, Bias: -0.294964, T: 4651563, Avg. loss: 0.615254\n",
      "Total training time: 1.46 seconds.\n",
      "-- Epoch 4\n",
      "Norm: 0.66, NNZs: 39, Bias: -0.295424, T: 6202084, Avg. loss: 0.615236\n",
      "Total training time: 1.94 seconds.\n",
      "-- Epoch 5\n",
      "Norm: 0.67, NNZs: 39, Bias: -0.295914, T: 7752605, Avg. loss: 0.615235\n",
      "Total training time: 2.43 seconds.\n",
      "-- Epoch 6\n",
      "Norm: 0.67, NNZs: 39, Bias: -0.296856, T: 9303126, Avg. loss: 0.615228\n",
      "Total training time: 2.91 seconds.\n",
      "Convergence after 6 epochs took 2.93 seconds\n",
      "Best CV ROC AUC: 0.7211868415194397\n",
      "Best parameters: {'alpha': 0.01, 'penalty': 'l2'}\n",
      "Test ROC AUC: 0.7128632663510482\n",
      "Confusion Matrix:\n",
      "[[144437  70913]\n",
      " [ 19476  34236]]\n",
      "\n",
      "Classification Report:\n",
      "              precision    recall  f1-score   support\n",
      "\n",
      "           0       0.88      0.67      0.76    215350\n",
      "           1       0.33      0.64      0.43     53712\n",
      "\n",
      "    accuracy                           0.66    269062\n",
      "   macro avg       0.60      0.65      0.60    269062\n",
      "weighted avg       0.77      0.66      0.70    269062\n",
      "\n"
     ]
    }
   ],
   "source": [
    "cv_sgd_log_reg(res_train_df,test_df,feats,params,\"roc_auc\")"
   ]
  }
 ],
 "metadata": {
  "kernelspec": {
   "display_name": "Python 3",
   "language": "python",
   "name": "python3"
  },
  "language_info": {
   "codemirror_mode": {
    "name": "ipython",
    "version": 3
   },
   "file_extension": ".py",
   "mimetype": "text/x-python",
   "name": "python",
   "nbconvert_exporter": "python",
   "pygments_lexer": "ipython3",
   "version": "3.12.1"
  }
 },
 "nbformat": 4,
 "nbformat_minor": 5
}
